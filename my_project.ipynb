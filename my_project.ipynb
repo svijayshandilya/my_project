{
 "cells": [
  {
   "cell_type": "code",
   "execution_count": 9,
   "metadata": {},
   "outputs": [],
   "source": [
    "import pandas as pd\n",
    "import numpy as np\n",
    "import matplotlib.pyplot as plt\n",
    "import seaborn as sns"
   ]
  },
  {
   "cell_type": "code",
   "execution_count": 10,
   "metadata": {},
   "outputs": [],
   "source": [
    "diabetes = pd.read_csv('c:\\data\\diabeteas.csv')\n"
   ]
  },
  {
   "cell_type": "code",
   "execution_count": 11,
   "metadata": {},
   "outputs": [
    {
     "name": "stdout",
     "output_type": "stream",
     "text": [
      "(768, 9)\n"
     ]
    }
   ],
   "source": [
    "print(diabetes.shape)\n"
   ]
  },
  {
   "cell_type": "code",
   "execution_count": 12,
   "metadata": {},
   "outputs": [
    {
     "name": "stdout",
     "output_type": "stream",
     "text": [
      "Pregnancies\n",
      "Glucose\n",
      "BloodPressure\n",
      "SkinThickness\n",
      "Insulin\n",
      "BMI\n",
      "DiabetesPedigreeFunction\n",
      "Age\n",
      "Outcome\n"
     ]
    }
   ],
   "source": [
    "for i in diabetes:\n",
    "    print(i)"
   ]
  },
  {
   "cell_type": "code",
   "execution_count": 13,
   "metadata": {},
   "outputs": [
    {
     "data": {
      "text/plain": [
       "Outcome\n",
       "0    500\n",
       "1    268\n",
       "dtype: int64"
      ]
     },
     "execution_count": 13,
     "metadata": {},
     "output_type": "execute_result"
    }
   ],
   "source": [
    "diabetes.groupby('Outcome').size()\n"
   ]
  },
  {
   "cell_type": "code",
   "execution_count": 14,
   "metadata": {},
   "outputs": [
    {
     "data": {
      "text/plain": [
       "Pregnancies                 0\n",
       "Glucose                     0\n",
       "BloodPressure               0\n",
       "SkinThickness               0\n",
       "Insulin                     0\n",
       "BMI                         0\n",
       "DiabetesPedigreeFunction    0\n",
       "Age                         0\n",
       "Outcome                     0\n",
       "dtype: int64"
      ]
     },
     "execution_count": 14,
     "metadata": {},
     "output_type": "execute_result"
    }
   ],
   "source": [
    "diabetes.isnull().sum()\n"
   ]
  },
  {
   "cell_type": "code",
   "execution_count": 15,
   "metadata": {},
   "outputs": [],
   "source": [
    "diabetes_mod = diabetes[(diabetes.BloodPressure != 0) & (diabetes.BMI != 0) & (diabetes.Glucose != 0)]\n"
   ]
  },
  {
   "cell_type": "code",
   "execution_count": 16,
   "metadata": {},
   "outputs": [
    {
     "name": "stdout",
     "output_type": "stream",
     "text": [
      "    Pregnancies  Glucose  BloodPressure  SkinThickness  Insulin   BMI  \\\n",
      "0             6      148             72             35        0  33.6   \n",
      "1             1       85             66             29        0  26.6   \n",
      "2             8      183             64              0        0  23.3   \n",
      "3             1       89             66             23       94  28.1   \n",
      "4             0      137             40             35      168  43.1   \n",
      "5             5      116             74              0        0  25.6   \n",
      "6             3       78             50             32       88  31.0   \n",
      "8             2      197             70             45      543  30.5   \n",
      "10            4      110             92              0        0  37.6   \n",
      "11           10      168             74              0        0  38.0   \n",
      "12           10      139             80              0        0  27.1   \n",
      "13            1      189             60             23      846  30.1   \n",
      "14            5      166             72             19      175  25.8   \n",
      "16            0      118             84             47      230  45.8   \n",
      "17            7      107             74              0        0  29.6   \n",
      "18            1      103             30             38       83  43.3   \n",
      "19            1      115             70             30       96  34.6   \n",
      "20            3      126             88             41      235  39.3   \n",
      "21            8       99             84              0        0  35.4   \n",
      "22            7      196             90              0        0  39.8   \n",
      "\n",
      "    DiabetesPedigreeFunction  Age  Outcome  \n",
      "0                      0.627   50        1  \n",
      "1                      0.351   31        0  \n",
      "2                      0.672   32        1  \n",
      "3                      0.167   21        0  \n",
      "4                      2.288   33        1  \n",
      "5                      0.201   30        0  \n",
      "6                      0.248   26        1  \n",
      "8                      0.158   53        1  \n",
      "10                     0.191   30        0  \n",
      "11                     0.537   34        1  \n",
      "12                     1.441   57        0  \n",
      "13                     0.398   59        1  \n",
      "14                     0.587   51        1  \n",
      "16                     0.551   31        1  \n",
      "17                     0.254   31        1  \n",
      "18                     0.183   33        0  \n",
      "19                     0.529   32        1  \n",
      "20                     0.704   27        0  \n",
      "21                     0.388   50        0  \n",
      "22                     0.451   41        1  \n"
     ]
    }
   ],
   "source": [
    "print(diabetes_mod.head(20))\n"
   ]
  },
  {
   "cell_type": "code",
   "execution_count": 17,
   "metadata": {},
   "outputs": [],
   "source": [
    "from sklearn.neighbors import KNeighborsClassifier\n",
    "from sklearn.svm import SVC\n",
    "from sklearn.linear_model import LogisticRegression\n",
    "from sklearn.tree import DecisionTreeClassifier\n",
    "from sklearn.naive_bayes import GaussianNB\n",
    "from sklearn.ensemble import RandomForestClassifier\n",
    "from sklearn.ensemble import GradientBoostingClassifier"
   ]
  },
  {
   "cell_type": "code",
   "execution_count": 18,
   "metadata": {},
   "outputs": [],
   "source": [
    "models = []\n",
    "\n",
    "models.append(('KNN', KNeighborsClassifier()))\n",
    "models.append(('SVC', SVC()))\n",
    "models.append(('LR', LogisticRegression()))\n",
    "models.append(('DT', DecisionTreeClassifier()))\n",
    "models.append(('GNB', GaussianNB()))\n",
    "models.append(('RF', RandomForestClassifier()))\n",
    "models.append(('GB', GradientBoostingClassifier()))\n"
   ]
  },
  {
   "cell_type": "code",
   "execution_count": 19,
   "metadata": {},
   "outputs": [],
   "source": [
    "from sklearn.model_selection import train_test_split\n",
    "from sklearn.model_selection import cross_val_score\n",
    "from sklearn.metrics import accuracy_score\n"
   ]
  },
  {
   "cell_type": "code",
   "execution_count": 20,
   "metadata": {},
   "outputs": [],
   "source": [
    "feature_names = ['Pregnancies', 'Glucose', 'BloodPressure', 'SkinThickness', 'Insulin', 'BMI', 'DiabetesPedigreeFunction', 'Age']\n",
    "\n",
    "X = diabetes_mod[feature_names]\n",
    "y = diabetes_mod.Outcome\n"
   ]
  },
  {
   "cell_type": "code",
   "execution_count": 21,
   "metadata": {},
   "outputs": [],
   "source": [
    "validation_size = 0.20\n",
    "seed = 7\n",
    "X_train, X_test, y_train, y_test = train_test_split(X, y, stratify = diabetes_mod.Outcome,test_size=validation_size, random_state=seed)\n"
   ]
  },
  {
   "cell_type": "code",
   "execution_count": 22,
   "metadata": {},
   "outputs": [
    {
     "name": "stdout",
     "output_type": "stream",
     "text": [
      "  Name     Score\n",
      "0  KNN  0.689655\n",
      "1  SVC  0.655172\n",
      "2   LR  0.800000\n",
      "3   DT  0.682759\n",
      "4  GNB  0.751724\n",
      "5   RF  0.668966\n",
      "6   GB  0.751724\n"
     ]
    }
   ],
   "source": [
    "names = []\n",
    "scores = []\n",
    "\n",
    "for name,model in models:\n",
    "    model.fit(X_train, y_train)\n",
    "    y_pred = model.predict(X_test)\n",
    "    scores.append(accuracy_score(y_test, y_pred))\n",
    "    names.append(name)\n",
    "\n",
    "tr_split = pd.DataFrame({'Name': names, 'Score': scores})\n",
    "print(tr_split)\n"
   ]
  },
  {
   "cell_type": "code",
   "execution_count": 23,
   "metadata": {},
   "outputs": [
    {
     "name": "stdout",
     "output_type": "stream",
     "text": [
      "  Name     Score\n",
      "0  KNN  0.725138\n",
      "1  SVC  0.656077\n",
      "2   LR  0.755525\n",
      "3   DT  0.682320\n",
      "4  GNB  0.748619\n",
      "5   RF  0.726519\n",
      "6   GB  0.733425\n"
     ]
    }
   ],
   "source": [
    "#validation\n",
    "\n",
    "from sklearn.model_selection import KFold\n",
    "names = []\n",
    "scores = []\n",
    "\n",
    "for name, model in models:\n",
    "    \n",
    "    kfold = KFold(n_splits=2, random_state=0) \n",
    "    score = cross_val_score(model, X, y, cv=kfold, scoring='accuracy').mean()\n",
    "    \n",
    "    names.append(name)\n",
    "    scores.append(score)\n",
    "\n",
    "kf_cross_val = pd.DataFrame({'Name': names, 'Score': scores})\n",
    "print(kf_cross_val)"
   ]
  },
  {
   "cell_type": "code",
   "execution_count": null,
   "metadata": {},
   "outputs": [],
   "source": []
  }
 ],
 "metadata": {
  "kernelspec": {
   "display_name": "Python 3",
   "language": "python",
   "name": "python3"
  },
  "language_info": {
   "codemirror_mode": {
    "name": "ipython",
    "version": 3
   },
   "file_extension": ".py",
   "mimetype": "text/x-python",
   "name": "python",
   "nbconvert_exporter": "python",
   "pygments_lexer": "ipython3",
   "version": "3.6.4"
  }
 },
 "nbformat": 4,
 "nbformat_minor": 2
}
